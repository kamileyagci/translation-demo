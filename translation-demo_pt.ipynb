{
 "cells": [
  {
   "cell_type": "markdown",
   "metadata": {},
   "source": [
    "## Translation Model - Demo Run \n",
    "\n",
    "This notebook\n",
    "* runs pre-trained 't5-small' model (English -> French, German, Romanian)\n",
    "* runs Fine-tuned model (trained on English -> French opus_book data)\n",
    "* runs pre-trained English -> Turkish translation model (Helsinki-NLP/opus-mt-tc-big-en-tr)\n",
    "* evaluates model performance (Bleu score)"
   ]
  },
  {
   "cell_type": "code",
   "execution_count": 4,
   "metadata": {},
   "outputs": [],
   "source": [
    "# Import Libraries\n",
    "from datasets import load_dataset\n",
    "from transformers import AutoTokenizer\n",
    "from transformers import AutoModelForSeq2SeqLM\n",
    "from transformers import DataCollatorForSeq2Seq\n",
    "from transformers import Seq2SeqTrainingArguments, Seq2SeqTrainer\n",
    "from transformers import MarianMTModel, MarianTokenizer\n",
    "import evaluate"
   ]
  },
  {
   "cell_type": "code",
   "execution_count": 2,
   "metadata": {},
   "outputs": [],
   "source": [
    "# Translate Function: pre-process, tokenize, predict, and detokenize\n",
    "\n",
    "def translate(text, prefix, model, tokenizer, print_detail=0):\n",
    "    text_wp = prefix + text\n",
    "    text_tokenized = tokenizer(text_wp, return_tensors='pt')\n",
    "    out_tokenized = model.generate(**text_tokenized, max_length=128)\n",
    "    text_translated = tokenizer.decode(out_tokenized[0], skip_special_tokens=True)\n",
    "\n",
    "    if print_detail: \n",
    "        print('Input text: ', text)\n",
    "        print('text with prefix: ', text_wp)\n",
    "        print('text tekonized: ', text_tokenized)\n",
    "        print('out tekonized: ', out_tokenized)\n",
    "        print('Translated text:  ', text_translated)\n",
    "\n",
    "    return text_translated "
   ]
  },
  {
   "cell_type": "markdown",
   "metadata": {},
   "source": [
    "### Pre-trained 't5-small' model (English -> French, German, Romanian)"
   ]
  },
  {
   "cell_type": "code",
   "execution_count": 3,
   "metadata": {},
   "outputs": [],
   "source": [
    "# Load model and tokenizer\n",
    "\n",
    "model_t5s = AutoModelForSeq2SeqLM.from_pretrained(\"t5-small\")\n",
    "tokenizer_t5s = AutoTokenizer.from_pretrained(\"t5-small\", model_max_length=128)"
   ]
  },
  {
   "cell_type": "code",
   "execution_count": 4,
   "metadata": {},
   "outputs": [
    {
     "data": {
      "text/plain": [
       "\"L'éducation n'est pas l'apprentissage des faits, mais la formation de l'esprit à penser!\""
      ]
     },
     "execution_count": 4,
     "metadata": {},
     "output_type": "execute_result"
    }
   ],
   "source": [
    "# Translate English -> French\n",
    "\n",
    "prefix = \"translate English to French: \"\n",
    "text = 'Education is not the learning of facts, but the training of the mind to think!'\n",
    "\n",
    "translate(text, prefix, model_t5s, tokenizer_t5s)"
   ]
  },
  {
   "cell_type": "code",
   "execution_count": 5,
   "metadata": {},
   "outputs": [
    {
     "data": {
      "text/plain": [
       "'Bildung ist nicht das Erlernen von Fakten, sondern die Ausbildung des Geistes zum Denken!'"
      ]
     },
     "execution_count": 5,
     "metadata": {},
     "output_type": "execute_result"
    }
   ],
   "source": [
    "# Translate English -> German\n",
    "\n",
    "prefix = \"translate English to German: \"\n",
    "text = 'Education is not the learning of facts, but the training of the mind to think!'\n",
    "\n",
    "translate(text, prefix, model_t5s, tokenizer_t5s)"
   ]
  },
  {
   "cell_type": "code",
   "execution_count": 52,
   "metadata": {},
   "outputs": [
    {
     "data": {
      "text/plain": [
       "'Educaţia nu înseamnă învăţarea faptelor, ci formarea spiritului de gândire!'"
      ]
     },
     "execution_count": 52,
     "metadata": {},
     "output_type": "execute_result"
    }
   ],
   "source": [
    "# Translate English -> Romanian\n",
    "\n",
    "prefix = \"translate English to Romanian: \"\n",
    "text = 'Education is not the learning of facts, but the training of the mind to think!'\n",
    "\n",
    "translate(text, prefix, model_t5s, tokenizer_t5s)"
   ]
  },
  {
   "cell_type": "markdown",
   "metadata": {},
   "source": [
    "### Fine-tuned model (English -> French)\n",
    "\n",
    "The 'translatorModel3', is fined-tuned from 't5-small' pre-trained model on dataset 'opus_books'.\n",
    "\n",
    "PyTorch is used for training.\n",
    "\n",
    "Hugging Face training guide is followed:\n",
    "\n",
    "    https://huggingface.co/docs/transformers/tasks/translation\n",
    "\n"
   ]
  },
  {
   "cell_type": "code",
   "execution_count": 5,
   "metadata": {},
   "outputs": [
    {
     "data": {
      "application/vnd.jupyter.widget-view+json": {
       "model_id": "1e19afdaffe34879bc562008ff4f6c77",
       "version_major": 2,
       "version_minor": 0
      },
      "text/plain": [
       "Downloading:   0%|          | 0.00/1.48k [00:00<?, ?B/s]"
      ]
     },
     "metadata": {},
     "output_type": "display_data"
    },
    {
     "data": {
      "application/vnd.jupyter.widget-view+json": {
       "model_id": "68fb098fc21444c491e5a6d6fefb29e6",
       "version_major": 2,
       "version_minor": 0
      },
      "text/plain": [
       "Downloading:   0%|          | 0.00/242M [00:00<?, ?B/s]"
      ]
     },
     "metadata": {},
     "output_type": "display_data"
    },
    {
     "data": {
      "application/vnd.jupyter.widget-view+json": {
       "model_id": "10afb383c7cf4f6389dd2ca90260a860",
       "version_major": 2,
       "version_minor": 0
      },
      "text/plain": [
       "Downloading:   0%|          | 0.00/2.36k [00:00<?, ?B/s]"
      ]
     },
     "metadata": {},
     "output_type": "display_data"
    },
    {
     "data": {
      "application/vnd.jupyter.widget-view+json": {
       "model_id": "a49311f026454c11954b5005d0e17db5",
       "version_major": 2,
       "version_minor": 0
      },
      "text/plain": [
       "Downloading:   0%|          | 0.00/792k [00:00<?, ?B/s]"
      ]
     },
     "metadata": {},
     "output_type": "display_data"
    },
    {
     "data": {
      "application/vnd.jupyter.widget-view+json": {
       "model_id": "e41600f5231141b798d0e1506b462433",
       "version_major": 2,
       "version_minor": 0
      },
      "text/plain": [
       "Downloading:   0%|          | 0.00/2.42M [00:00<?, ?B/s]"
      ]
     },
     "metadata": {},
     "output_type": "display_data"
    },
    {
     "data": {
      "application/vnd.jupyter.widget-view+json": {
       "model_id": "ec23e6850a254f39b78fd4d74df8db0f",
       "version_major": 2,
       "version_minor": 0
      },
      "text/plain": [
       "Downloading:   0%|          | 0.00/2.20k [00:00<?, ?B/s]"
      ]
     },
     "metadata": {},
     "output_type": "display_data"
    }
   ],
   "source": [
    "# Load fine-tuned model and tokenizer\n",
    "\n",
    "#model_directory = './translatorModel3' \n",
    "model_directory = 'kamileyagci/t5small-finetuned-opusbooks-en-fr'\n",
    "model_tuned = AutoModelForSeq2SeqLM.from_pretrained(model_directory)\n",
    "tokenizer_tuned = AutoTokenizer.from_pretrained(model_directory, model_max_length=128)"
   ]
  },
  {
   "cell_type": "code",
   "execution_count": 6,
   "metadata": {},
   "outputs": [
    {
     "data": {
      "text/plain": [
       "\"L'éducation n'est pas l'apprentissage des faits, mais la formation de l'esprit à penser!\""
      ]
     },
     "execution_count": 6,
     "metadata": {},
     "output_type": "execute_result"
    }
   ],
   "source": [
    "# Translate\n",
    "\n",
    "prefix = \"translate English to French: \"\n",
    "text = 'Education is not the learning of facts, but the training of the mind to think!'\n",
    "\n",
    "translate(text, prefix, model_tuned, tokenizer_tuned)"
   ]
  },
  {
   "cell_type": "code",
   "execution_count": 9,
   "metadata": {},
   "outputs": [
    {
     "data": {
      "text/plain": [
       "'Bienvenue!'"
      ]
     },
     "execution_count": 9,
     "metadata": {},
     "output_type": "execute_result"
    }
   ],
   "source": [
    "# Translate\n",
    "\n",
    "prefix = \"translate English to French: \"\n",
    "text = 'Welcome!'\n",
    "\n",
    "translate(text, prefix, model_tuned, tokenizer_tuned)"
   ]
  },
  {
   "cell_type": "markdown",
   "metadata": {},
   "source": [
    "### Pre-trained English-Turkish Translation (Helsinki-NLP/opus-mt-tc-big-en-tr\")"
   ]
  },
  {
   "cell_type": "code",
   "execution_count": 7,
   "metadata": {},
   "outputs": [],
   "source": [
    "# Load model and tokenizer\n",
    "\n",
    "tr_model_name = \"Helsinki-NLP/opus-mt-tc-big-en-tr\"\n",
    "\n",
    "model_tr = MarianMTModel.from_pretrained(tr_model_name)\n",
    "tokenizer_tr = MarianTokenizer.from_pretrained(tr_model_name)"
   ]
  },
  {
   "cell_type": "code",
   "execution_count": 10,
   "metadata": {},
   "outputs": [
    {
     "data": {
      "text/plain": [
       "'Eğitim, olguların öğrenilmesi değil, zihnin düşünme eğitimidir!'"
      ]
     },
     "execution_count": 10,
     "metadata": {},
     "output_type": "execute_result"
    }
   ],
   "source": [
    "#Translate English -> Turkish\n",
    "\n",
    "prefix = \"\"\n",
    "text = 'Education is not the learning of facts, but the training of the mind to think!'\n",
    "\n",
    "translate(text, prefix, model_tr, tokenizer_tr)"
   ]
  },
  {
   "cell_type": "markdown",
   "metadata": {},
   "source": [
    "### Model performance with BLEU score"
   ]
  },
  {
   "cell_type": "code",
   "execution_count": 10,
   "metadata": {},
   "outputs": [],
   "source": [
    "metric = evaluate.load(\"sacrebleu\")"
   ]
  },
  {
   "cell_type": "code",
   "execution_count": 11,
   "metadata": {},
   "outputs": [
    {
     "name": "stderr",
     "output_type": "stream",
     "text": [
      "Found cached dataset opus_books (/home/kyagci/.cache/huggingface/datasets/opus_books/en-fr/1.0.0/e8f950a4f32dc39b7f9088908216cd2d7e21ac35f893d04d39eb594746af2daf)\n"
     ]
    },
    {
     "data": {
      "application/vnd.jupyter.widget-view+json": {
       "model_id": "ce33b872eb1a42c89dfa983254424f04",
       "version_major": 2,
       "version_minor": 0
      },
      "text/plain": [
       "  0%|          | 0/1 [00:00<?, ?it/s]"
      ]
     },
     "metadata": {},
     "output_type": "display_data"
    }
   ],
   "source": [
    "books = load_dataset(\"opus_books\", \"en-fr\")"
   ]
  },
  {
   "cell_type": "markdown",
   "metadata": {},
   "source": [
    "#### Evaluate t5-small pre-trained model"
   ]
  },
  {
   "cell_type": "code",
   "execution_count": 12,
   "metadata": {},
   "outputs": [
    {
     "name": "stdout",
     "output_type": "stream",
     "text": [
      "Input text:  Education is not the learning of facts, but the training of the mind to think!\n",
      "Reference text:  L'éducation n'est pas l'apprentissage de faits, mais l'entraînement de l'esprit à penser.\n",
      "Predicted text:  L'éducation n'est pas l'apprentissage des faits, mais la formation de l'esprit à penser!\n",
      "\n",
      "SacreBLEU result:\n"
     ]
    },
    {
     "data": {
      "text/plain": [
       "{'score': 40.48411918659966,\n",
       " 'counts': [11, 8, 5, 2],\n",
       " 'totals': [15, 14, 13, 12],\n",
       " 'precisions': [73.33333333333333,\n",
       "  57.142857142857146,\n",
       "  38.46153846153846,\n",
       "  16.666666666666668],\n",
       " 'bp': 1.0,\n",
       " 'sys_len': 15,\n",
       " 'ref_len': 14}"
      ]
     },
     "execution_count": 12,
     "metadata": {},
     "output_type": "execute_result"
    }
   ],
   "source": [
    "#### Example 1 with t5-small\n",
    "\n",
    "prefix = \"translate English to French: \"\n",
    "text = 'Education is not the learning of facts, but the training of the mind to think!'\n",
    "ref_text = \"L'éducation n'est pas l'apprentissage de faits, mais l'entraînement de l'esprit à penser.\" #from Google translate\n",
    "\n",
    "pred_text = translate(text, prefix, model_t5s, tokenizer_t5s)\n",
    "\n",
    "print('Input text: ', text)\n",
    "print('Reference text: ', ref_text)\n",
    "print('Predicted text: ', pred_text)\n",
    "\n",
    "print('\\nSacreBLEU result:')\n",
    "\n",
    "metric = evaluate.load(\"sacrebleu\")\n",
    "metric.compute(predictions=[pred_text], references=[[ref_text]])"
   ]
  },
  {
   "cell_type": "code",
   "execution_count": 14,
   "metadata": {},
   "outputs": [
    {
     "name": "stdout",
     "output_type": "stream",
     "text": [
      "Input text:  And that quiet countryside - the school, old Father Martin's field, with its three walnut trees, the garden daily invaded on the stroke of four by women paying calls - all this is, in my memory, forever stirred and transformed by the presence of him who upset all our youth and whose sudden flight even did not leave us in peace.\n",
      "Reference text:  Tout ce paysage paisible – l’école, le champ du père Martin, avec ses trois noyers, le jardin dès quatre heures envahi chaque jour par des femmes en visite – est à jamais, dans ma mémoire, agité, transformé par la présence de celui qui bouleversa toute notre adolescence et dont la fuite même ne nous a pas laissé de repos.\n",
      "Predicted text:  Et cette campagne tranquille - l'école, le champ du père Martin, avec ses trois noix, le jardin envahi quotidiennement à l'arrière-plan de quatre par des femmes qui paient des appels - c'est, à ma mémoire, à jamais étonné et transformé par la présence de lui qui a bouleversé toute notre jeunesse et dont le vol soudaine ne nous a même pas laissé en\n",
      "\n",
      "SacreBLEU result:\n"
     ]
    },
    {
     "data": {
      "text/plain": [
       "{'score': 29.182367007439346,\n",
       " 'counts': [42, 25, 15, 9],\n",
       " 'totals': [68, 67, 66, 65],\n",
       " 'precisions': [61.76470588235294,\n",
       "  37.3134328358209,\n",
       "  22.727272727272727,\n",
       "  13.846153846153847],\n",
       " 'bp': 1.0,\n",
       " 'sys_len': 68,\n",
       " 'ref_len': 66}"
      ]
     },
     "execution_count": 14,
     "metadata": {},
     "output_type": "execute_result"
    }
   ],
   "source": [
    "# Example 2 with t5-small\n",
    "\n",
    "id = 20\n",
    "\n",
    "prefix = \"translate English to French: \"\n",
    "text = books[\"train\"][id]['translation']['en']\n",
    "ref_text = books[\"train\"][id]['translation']['fr']\n",
    "pred_text = translate(text, prefix, model_t5s, tokenizer_t5s)\n",
    "\n",
    "print('Input text: ', text)\n",
    "print('Reference text: ', ref_text)\n",
    "print('Predicted text: ', pred_text)\n",
    "\n",
    "# Evaluate Bleu Score\n",
    "\n",
    "print('\\nSacreBLEU result:')\n",
    "\n",
    "metric = evaluate.load(\"sacrebleu\")\n",
    "metric.compute(predictions=[pred_text], references=[[ref_text]])"
   ]
  },
  {
   "cell_type": "markdown",
   "metadata": {},
   "source": [
    "#### Evaluate fine-tuned model"
   ]
  },
  {
   "cell_type": "code",
   "execution_count": 15,
   "metadata": {},
   "outputs": [
    {
     "name": "stdout",
     "output_type": "stream",
     "text": [
      "Input text:  Education is not the learning of facts, but the training of the mind to think!\n",
      "Reference text:  L'éducation n'est pas l'apprentissage de faits, mais l'entraînement de l'esprit à penser.\n",
      "Predicted text:  L'éducation n'est pas l'apprentissage des faits, mais la formation de l'esprit à penser!\n",
      "\n",
      "SacreBLEU result:\n"
     ]
    },
    {
     "data": {
      "text/plain": [
       "{'score': 40.48411918659966,\n",
       " 'counts': [11, 8, 5, 2],\n",
       " 'totals': [15, 14, 13, 12],\n",
       " 'precisions': [73.33333333333333,\n",
       "  57.142857142857146,\n",
       "  38.46153846153846,\n",
       "  16.666666666666668],\n",
       " 'bp': 1.0,\n",
       " 'sys_len': 15,\n",
       " 'ref_len': 14}"
      ]
     },
     "execution_count": 15,
     "metadata": {},
     "output_type": "execute_result"
    }
   ],
   "source": [
    "#### Example 1 with fine-tuned\n",
    "\n",
    "prefix = \"translate English to French: \"\n",
    "text = 'Education is not the learning of facts, but the training of the mind to think!'\n",
    "ref_text = \"L'éducation n'est pas l'apprentissage de faits, mais l'entraînement de l'esprit à penser.\" #from Google translate\n",
    "\n",
    "pred_text = translate(text, prefix, model_tuned, tokenizer_tuned)\n",
    "\n",
    "print('Input text: ', text)\n",
    "print('Reference text: ', ref_text)\n",
    "print('Predicted text: ', pred_text)\n",
    "\n",
    "print('\\nSacreBLEU result:')\n",
    "\n",
    "metric = evaluate.load(\"sacrebleu\")\n",
    "metric.compute(predictions=[pred_text], references=[[ref_text]])"
   ]
  },
  {
   "cell_type": "code",
   "execution_count": 85,
   "metadata": {},
   "outputs": [
    {
     "name": "stdout",
     "output_type": "stream",
     "text": [
      "Input text:  And that quiet countryside - the school, old Father Martin's field, with its three walnut trees, the garden daily invaded on the stroke of four by women paying calls - all this is, in my memory, forever stirred and transformed by the presence of him who upset all our youth and whose sudden flight even did not leave us in peace.\n",
      "Reference text:  Tout ce paysage paisible – l’école, le champ du père Martin, avec ses trois noyers, le jardin dès quatre heures envahi chaque jour par des femmes en visite – est à jamais, dans ma mémoire, agité, transformé par la présence de celui qui bouleversa toute notre adolescence et dont la fuite même ne nous a pas laissé de repos.\n",
      "Predicted text:  Et cette campagne tranquille - l'école, le champ du père Martin, avec ses trois noix, le jardin envahi quotidiennement à l'arrière-plan de quatre par des femmes qui s'encouragèrent - tout cela est, à ma mémoire, étonné et transformé par la présence de lui qui a bouleversé toute notre jeunesse et dont le vol soudain ne nous a même pas laissés en paix.\n",
      "\n",
      "SacreBLEU result:\n"
     ]
    },
    {
     "data": {
      "text/plain": [
       "{'score': 28.580345320702776,\n",
       " 'counts': [42, 23, 15, 9],\n",
       " 'totals': [68, 67, 66, 65],\n",
       " 'precisions': [61.76470588235294,\n",
       "  34.32835820895522,\n",
       "  22.727272727272727,\n",
       "  13.846153846153847],\n",
       " 'bp': 1.0,\n",
       " 'sys_len': 68,\n",
       " 'ref_len': 66}"
      ]
     },
     "execution_count": 85,
     "metadata": {},
     "output_type": "execute_result"
    }
   ],
   "source": [
    "# Example 2 with fine-tuned\n",
    "\n",
    "id = 20\n",
    "\n",
    "prefix = \"translate English to French: \"\n",
    "text = books[\"train\"][id]['translation']['en']\n",
    "ref_text = books[\"train\"][id]['translation']['fr']\n",
    "pred_text = translate(in_text, prefix, model_tuned, tokenizer_tuned)\n",
    "\n",
    "print('Input text: ', text)\n",
    "print('Reference text: ', ref_text)\n",
    "print('Predicted text: ', pred_text)\n",
    "\n",
    "# Evaluate Bleu Score\n",
    "\n",
    "print('\\nSacreBLEU result:')\n",
    "\n",
    "metric = evaluate.load(\"sacrebleu\")\n",
    "metric.compute(predictions=[pred_text], references=[[ref_text]])"
   ]
  },
  {
   "cell_type": "markdown",
   "metadata": {},
   "source": [
    "**Note: Why not the fine-tuned model has better performance?**\n"
   ]
  },
  {
   "cell_type": "markdown",
   "metadata": {},
   "source": [
    "#### Evaluate English -> Turkish translator"
   ]
  },
  {
   "cell_type": "code",
   "execution_count": 16,
   "metadata": {},
   "outputs": [
    {
     "name": "stdout",
     "output_type": "stream",
     "text": [
      "Input text:  Education is not the learning of facts, but the training of the mind to think!\n",
      "Reference text:  Eğitim, gerçeklerin öğrenilmesi değil, düşünmek için zihnin eğitilmesidir.\n",
      "Predicted text:  Eğitim, olguların öğrenilmesi değil, zihnin düşünme eğitimidir!\n",
      "\n",
      "SacreBLEU result:\n"
     ]
    },
    {
     "data": {
      "text/plain": [
       "{'score': 18.60045401920258,\n",
       " 'counts': [6, 3, 1, 0],\n",
       " 'totals': [10, 9, 8, 7],\n",
       " 'precisions': [60.0, 33.333333333333336, 12.5, 7.142857142857143],\n",
       " 'bp': 0.9048374180359595,\n",
       " 'sys_len': 10,\n",
       " 'ref_len': 11}"
      ]
     },
     "execution_count": 16,
     "metadata": {},
     "output_type": "execute_result"
    }
   ],
   "source": [
    "### Example 1 with English -> Turkish translator\n",
    "\n",
    "prefix = \"\"\n",
    "text = 'Education is not the learning of facts, but the training of the mind to think!'\n",
    "ref_text = \"Eğitim, gerçeklerin öğrenilmesi değil, düşünmek için zihnin eğitilmesidir.\" #from Google translate\n",
    "\n",
    "pred_text = translate(text, prefix, model_tr, tokenizer_tr)\n",
    "\n",
    "print('Input text: ', text)\n",
    "print('Reference text: ', ref_text)\n",
    "print('Predicted text: ', pred_text)\n",
    "\n",
    "print('\\nSacreBLEU result:')\n",
    "\n",
    "metric = evaluate.load(\"sacrebleu\")\n",
    "metric.compute(predictions=[pred_text], references=[[ref_text]])"
   ]
  },
  {
   "cell_type": "code",
   "execution_count": 17,
   "metadata": {},
   "outputs": [
    {
     "name": "stdout",
     "output_type": "stream",
     "text": [
      "Input text:  And that quiet countryside - the school, old Father Martin's field, with its three walnut trees, the garden daily invaded on the stroke of four by women paying calls - all this is, in my memory, forever stirred and transformed by the presence of him who upset all our youth and whose sudden flight even did not leave us in peace.\n",
      "Reference text:  Ve o sessiz kırsal bölge - okul, yaşlı Peder Martin'in tarlası,     üç ceviz ağacıyla, her gün dört kişi telefon eden kadınlar tarafından istila edilen bahçe - tüm bunlar,         onun varlığıyla sonsuza dek karıştırılmış ve dönüştürülmüştür. bütün gençlerimizi üzen,             ani kaçışı bile bizi rahat bırakmayan.\n",
      "Predicted text:  Ve o sessiz kırsal - okul, yaşlı Peder Martin'in tarlası, üç ceviz ağacıyla, bahçe günlük olarak çağrı yapan kadınlar tarafından dört vuruşla işgal edildi - tüm bunlar, hafızamda, tüm gençlerimizi üzen ve ani uçuşu bile bizi huzur içinde bırakmayan kişinin varlığıyla sonsuza kadar karıştırıldı ve dönüştürüldü.\n",
      "\n",
      "SacreBLEU result:\n"
     ]
    },
    {
     "data": {
      "text/plain": [
       "{'score': 36.33014355647905,\n",
       " 'counts': [35, 21, 14, 11],\n",
       " 'totals': [52, 51, 50, 49],\n",
       " 'precisions': [67.3076923076923, 41.1764705882353, 28.0, 22.448979591836736],\n",
       " 'bp': 1.0,\n",
       " 'sys_len': 52,\n",
       " 'ref_len': 51}"
      ]
     },
     "execution_count": 17,
     "metadata": {},
     "output_type": "execute_result"
    }
   ],
   "source": [
    "### Example 2 with English -> Turkish translator\n",
    "\n",
    "prefix = \"\"\n",
    "text = books[\"train\"][id]['translation']['en']\n",
    "ref_text = \"Ve o sessiz kırsal bölge - okul, yaşlı Peder Martin'in tarlası, \\\n",
    "    üç ceviz ağacıyla, her gün dört kişi telefon eden kadınlar tarafından istila edilen bahçe - tüm bunlar, \\\n",
    "        onun varlığıyla sonsuza dek karıştırılmış ve dönüştürülmüştür. bütün gençlerimizi üzen, \\\n",
    "            ani kaçışı bile bizi rahat bırakmayan.\" #Google translate\n",
    "\n",
    "pred_text = translate(text, prefix, model_tr, tokenizer_tr)\n",
    "\n",
    "print('Input text: ', text)\n",
    "print('Reference text: ', ref_text)\n",
    "print('Predicted text: ', pred_text)\n",
    "\n",
    "print('\\nSacreBLEU result:')\n",
    "\n",
    "metric = evaluate.load(\"sacrebleu\")\n",
    "metric.compute(predictions=[pred_text], references=[[ref_text]])"
   ]
  },
  {
   "cell_type": "code",
   "execution_count": null,
   "metadata": {},
   "outputs": [],
   "source": []
  }
 ],
 "metadata": {
  "kernelspec": {
   "display_name": "Python 3.9.13 ('base_env1')",
   "language": "python",
   "name": "python3"
  },
  "language_info": {
   "codemirror_mode": {
    "name": "ipython",
    "version": 3
   },
   "file_extension": ".py",
   "mimetype": "text/x-python",
   "name": "python",
   "nbconvert_exporter": "python",
   "pygments_lexer": "ipython3",
   "version": "3.9.13"
  },
  "orig_nbformat": 4,
  "vscode": {
   "interpreter": {
    "hash": "266a49efecb20c711169bb9b836d137614c224c95104058125d79a6a2e02ac62"
   }
  }
 },
 "nbformat": 4,
 "nbformat_minor": 2
}
